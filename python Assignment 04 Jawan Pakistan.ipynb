{
 "cells": [
  {
   "cell_type": "code",
   "execution_count": 10,
   "metadata": {},
   "outputs": [
    {
     "name": "stdout",
     "output_type": "stream",
     "text": [
      "Enter First Number: 6\n",
      "Enter Second Number: 7\n",
      "Enter which operation would you like to perform?\n",
      "Enter any of these char for specific operation +,-,*,/,**: **\n",
      "6 ** 7 : 279936\n"
     ]
    }
   ],
   "source": [
    "#Make a calculator using Python with addition , subtraction ,multiplication ,division and power.\n",
    "num1 = int(input(\"Enter First Number: \"))\n",
    "num2 = int(input(\"Enter Second Number: \"))\n",
    "\n",
    "print(\"Enter which operation would you like to perform?\")\n",
    "ch = input(\"Enter any of these char for specific operation +,-,*,/,**: \")\n",
    "\n",
    "result = 0\n",
    "if ch == '+':\n",
    "    result = num1 + num2\n",
    "elif ch == '-':\n",
    "    result = num1 - num2\n",
    "elif ch == '*':\n",
    "    result = num1 * num2\n",
    "elif ch == '/':\n",
    "    result = num1 / num2\n",
    "elif ch == '**':\n",
    "    result = num1 ** num2\n",
    "else:\n",
    "    print(\"Input character is not recognized!\")\n",
    "\n",
    "print(num1, ch , num2, \":\", result)"
   ]
  },
  {
   "cell_type": "code",
   "execution_count": 19,
   "metadata": {},
   "outputs": [
    {
     "name": "stdout",
     "output_type": "stream",
     "text": [
      "Numeric value in list in:\n",
      "4\n",
      "Numeric value in list in:\n",
      "10\n",
      "Numeric value in list in:\n",
      "7\n",
      "Numeric value in list in:\n",
      "99\n"
     ]
    }
   ],
   "source": [
    "#Write a program to check if there is any numeric value in list using for loop.\n",
    "list = [\"abc\", \"def\", 4, \"ghi\" ,10,\"sky\",7,\"game\",99,] \n",
    "for x in list: \n",
    "    if type(x) == int: \n",
    "        print(\"Numeric value in list in:\");\n",
    "        print(x);"
   ]
  },
  {
   "cell_type": "code",
   "execution_count": 35,
   "metadata": {},
   "outputs": [
    {
     "name": "stdout",
     "output_type": "stream",
     "text": [
      "{'Saba': 312221222, 'Mobin': 3121336666, 'Wakeel': 3123344677, 'yusra': 12333434435, 'ummul': 997697668, 'iqra': 79609785}\n"
     ]
    }
   ],
   "source": [
    "#Write a Python script to add a key to a dictionary.\n",
    "a={'Saba':312221222, 'Mobin':3121336666 , 'Wakeel':3123344677, 'yusra':12333434435 ,'ummul':997697668}\n",
    "a\n",
    "a['iqra']=79609785\n",
    "print(a);\n",
    "\n",
    "    \n"
   ]
  },
  {
   "cell_type": "code",
   "execution_count": 37,
   "metadata": {},
   "outputs": [
    {
     "name": "stdout",
     "output_type": "stream",
     "text": [
      "Total sum of values in the dictionary:\n",
      "84\n"
     ]
    }
   ],
   "source": [
    "#Write a Python program to sum all the numeric items in a dictionary.\n",
    "d={'Saba':31, 'Mobin':30 , 'Wakeel':6, 'yusra':9 ,'ummul':8}\n",
    "print(\"Total sum of values in the dictionary:\")\n",
    "print(sum(d.values()))"
   ]
  },
  {
   "cell_type": "code",
   "execution_count": 47,
   "metadata": {},
   "outputs": [
    {
     "name": "stdout",
     "output_type": "stream",
     "text": [
      "40 5 21 1 30 "
     ]
    }
   ],
   "source": [
    "#Write a program to identify duplicate values from list.\n",
    "l=[1,20,30,40,5,2,3,40,7,9,5,41,21,21,1,30]\n",
    "l1=[]\n",
    "for i in l:\n",
    "    if i not in l1:\n",
    "        l1.append(i)\n",
    "    else:\n",
    "        print(i,end=' ')"
   ]
  },
  {
   "cell_type": "code",
   "execution_count": 72,
   "metadata": {},
   "outputs": [
    {
     "name": "stdout",
     "output_type": "stream",
     "text": [
      "Exists\n"
     ]
    }
   ],
   "source": [
    "#Write a Python script to check if a given key already exists in a\n",
    "dictionary\n",
    "dict_1 = {\"a\": 1, \"b\":2, \"c\":3}\n",
    "if \"a\" in dict_1:\n",
    "    print(\"Exists\")\n",
    "elif \"b\" in dict_1:\n",
    "         print(\"Exists\")\n",
    "elif \"c\" in dict_1:\n",
    "         print(\"Exists\")\n",
    "else:\n",
    "    print(\"Does not exist\")"
   ]
  },
  {
   "cell_type": "code",
   "execution_count": null,
   "metadata": {},
   "outputs": [],
   "source": []
  }
 ],
 "metadata": {
  "kernelspec": {
   "display_name": "Python 3",
   "language": "python",
   "name": "python3"
  },
  "language_info": {
   "codemirror_mode": {
    "name": "ipython",
    "version": 3
   },
   "file_extension": ".py",
   "mimetype": "text/x-python",
   "name": "python",
   "nbconvert_exporter": "python",
   "pygments_lexer": "ipython3",
   "version": "3.7.6"
  }
 },
 "nbformat": 4,
 "nbformat_minor": 4
}
